{
 "cells": [
  {
   "cell_type": "code",
   "execution_count": 4,
   "metadata": {},
   "outputs": [
    {
     "name": "stdout",
     "output_type": "stream",
     "text": [
      "Populating the interactive namespace from numpy and matplotlib\n"
     ]
    },
    {
     "name": "stderr",
     "output_type": "stream",
     "text": [
      "/opt/python/lib/python3.6/site-packages/IPython/core/magics/pylab.py:160: UserWarning: pylab import has clobbered these variables: ['uniform']\n",
      "`%matplotlib` prevents importing * from pylab and numpy\n",
      "  \"\\n`%matplotlib` prevents importing * from pylab and numpy\"\n"
     ]
    }
   ],
   "source": [
    "#!/usr/bin/env python\n",
    "\n",
    "import sys, os\n",
    "import numpy as np\n",
    "from random import uniform\n",
    "import math\n",
    "%pylab inline\n",
    "import matplotlib.pyplot as plt"
   ]
  },
  {
   "cell_type": "code",
   "execution_count": 5,
   "metadata": {},
   "outputs": [],
   "source": [
    "def regression_gradient(train_X, train_Y, capacity, step_size, n_steps):\n",
    "    \"\"\"\n",
    "    Question 1.\n",
    "    ridge regression with gradient descent.\n",
    "    \"\"\"\n",
    "    \n",
    "    # if train_X is a vector, add dummy dimension\n",
    "    if np.ndim(train_X) == 1:\n",
    "        train_X = np.expand_dims(train_X, axis=1)\n",
    "        \n",
    "    n = np.shape(train_X)[0]\n",
    "    d = np.shape(train_X)[1]\n",
    "    \n",
    "    w = np.zeros((d + 1)) #includes b at position 0\n",
    "    \n",
    "    #We modify the dataset to include b. To do so, we add an column of 1s at the begining of train_X matrix\n",
    "    train_X_modif = np.ones((n,d + 1))\n",
    "    train_X_modif[:,1:] = train_X  \n",
    "\n",
    "    empirical_risk = np.zeros((d + 1))\n",
    "    for i in range(n_steps):\n",
    "        for j in range(n):\n",
    "            empirical_risk += np.dot(train_X_modif[j], (np.dot(w.T,train_X_modif[j]) - train_Y[j]))\n",
    "        empirical_risk = empirical_risk / n\n",
    "        regularization = (capacity * 2 * w) / n\n",
    "        gradient_descent = empirical_risk + regularization\n",
    "        w = w - (step_size  * gradient_descent)\n",
    "    \n",
    "    return w\n"
   ]
  },
  {
   "cell_type": "code",
   "execution_count": 6,
   "metadata": {},
   "outputs": [
    {
     "name": "stdout",
     "output_type": "stream",
     "text": [
      "[0.02729382 0.18265299 0.07246812 0.1745165  0.06522132]\n"
     ]
    }
   ],
   "source": [
    "#--------------------------------------------------------------------------------------------------------------------------\n",
    "#---------------------------------------------TEST-------------------------------------------------------------------------\n",
    "#--------------------------------------------------------------------------------------------------------------------------\n",
    "iris= np.loadtxt('iris.txt')\n",
    "train_X = iris[:, :-1]\n",
    "train_Y = iris[:, -1]\n",
    "\n",
    "print(regression_gradient(train_X, train_Y, 0.005, 0.01, 10))\n"
   ]
  },
  {
   "cell_type": "code",
   "execution_count": 7,
   "metadata": {},
   "outputs": [],
   "source": [
    "def sample_h(n):\n",
    "    \"\"\"\n",
    "    Question 2.\n",
    "    h(x) = sin(x) + 0.3x -1\n",
    "    Returns dataset D (x, h(x)) with n points. x in [-5, 5].\n",
    "    \"\"\"\n",
    "    D = np.zeros((n,2))\n",
    "    for i in range(n):\n",
    "        D[i,0] = uniform(-5,5)\n",
    "        D[i,1] = math.sin(D[i,0]) + 0.3*(D[i,0]) - 1\n",
    "    return D"
   ]
  },
  {
   "cell_type": "code",
   "execution_count": 8,
   "metadata": {},
   "outputs": [
    {
     "data": {
      "text/plain": [
       "Text(0,0.5,'Predicted value')"
      ]
     },
     "execution_count": 8,
     "metadata": {},
     "output_type": "execute_result"
    },
    {
     "data": {
      "image/png": "[encoded data removed]",
      "text/plain": [
       "<matplotlib.figure.Figure at 0x7f90c79a92b0>"
      ]
     },
     "metadata": {},
     "output_type": "display_data"
    }
   ],
   "source": [
    "#--------------------------------------------------------------------------------------------------------------------------\n",
    "#---------------------------------------------QUESTION 3-------------------------------------------------------------------\n",
    "#--------------------------------------------------------------------------------------------------------------------------\n",
    "\n",
    "n_bins = 100\n",
    "D= sample_h(15)\n",
    "w1 = regression_gradient(D[:,0], D[:,1], 0, 0.005, 200)\n",
    "b1= w1[0]\n",
    "w1= w1[1:]\n",
    "axes_min = np.min(D[:,0])\n",
    "axes_max = np.max(D[:,0])\n",
    "alpha=0.75\n",
    "x = np.atleast_2d(np.linspace(axes_min, axes_max, n_bins)).T\n",
    "\n",
    "#Raw data\n",
    "plt.scatter(D[:,0], D[:,1])\n",
    "\n",
    "#Plot h(x)\n",
    "y1 = np.zeros(n_bins)\n",
    "for i in range(n_bins):\n",
    "    y1[i] = math.sin(x[i]) + 0.3*(x[i]) - 1\n",
    "plt.plot(x, y1, color='blue', alpha=alpha)\n",
    "\n",
    "#plot regression_gradient\n",
    "y2 = np.zeros(n_bins)\n",
    "for j in range(n_bins):\n",
    "    y2[j] = np.dot(w1.T, x[j]) + b1\n",
    "plt.plot(x, y2, color='red', alpha=alpha)\n",
    "\n",
    "\n",
    "#--------------------------------------------------------------------------------------------------------------------------\n",
    "#---------------------------------------------QUESTION 4-------------------------------------------------------------------\n",
    "#--------------------------------------------------------------------------------------------------------------------------\n",
    "#plot regression_gradient - lamba intermediate\n",
    "w2 = regression_gradient(D[:,0], D[:,1], 10 , 0.005, 200)\n",
    "b2= w2[0]\n",
    "w2= w2[1:]\n",
    "y3 = np.zeros(n_bins)\n",
    "for j in range(n_bins):\n",
    "    y3[j] = np.dot(w2.T, x[j]) + b2\n",
    "plt.plot(x, y3, color='green', alpha=alpha)\n",
    "\n",
    "#plot regression_gradient - large lambda\n",
    "w3 = regression_gradient(D[:,0], D[:,1], 1000 , 0.005, 200)\n",
    "b3= w3[0]\n",
    "w3= w3[1:]\n",
    "y4 = np.zeros(n_bins)\n",
    "for j in range(n_bins):\n",
    "    y4[j] = np.dot(w3.T, x[j]) + b3\n",
    "plt.plot(x, y4, color='yellow', alpha=alpha)\n",
    "\n",
    "\n",
    "plt.legend(['h(x)',\n",
    "            'lambda = 0',\n",
    "            'intermediate lambda',\n",
    "            'large lambda',\n",
    "            'raw data'])\n",
    "\n",
    "plt.ylabel('Predicted value')"
   ]
  },
  {
   "cell_type": "code",
   "execution_count": 9,
   "metadata": {},
   "outputs": [
    {
     "data": {
      "text/plain": [
       "Text(0.5,0,'Capacity')"
      ]
     },
     "execution_count": 9,
     "metadata": {},
     "output_type": "execute_result"
    },
    {
     "data": {
      "image/png": "[encoded data removed]",
      "text/plain": [
       "<matplotlib.figure.Figure at 0x7f90c58d2358>"
      ]
     },
     "metadata": {},
     "output_type": "display_data"
    }
   ],
   "source": [
    "#--------------------------------------------------------------------------------------------------------------------------\n",
    "#---------------------------------------------QUESTION 5-------------------------------------------------------------------\n",
    "#--------------------------------------------------------------------------------------------------------------------------\n",
    "n_bins = 100\n",
    "axes_min = np.min(D[:,0])-1\n",
    "axes_max = np.max(D[:,0])+1\n",
    "alpha=0.75\n",
    "x = np.atleast_2d(np.linspace(axes_min, axes_max, n_bins)).T\n",
    "\n",
    "D_test = sample_h(100)\n",
    "capacity = [0.0001, 0.001, 0.01, 0.1, 1, 10, 100]\n",
    "\n",
    "avg_loss = np.zeros(len(capacity))\n",
    "for i in range(len(capacity)):\n",
    "    loss = 0\n",
    "    w5 = regression_gradient(D[:,0], D[:,1], capacity[i] , 0.005, 200)\n",
    "    b5= w5[0]\n",
    "    w5= w5[1:]\n",
    "    for j in range(len(D_test)):\n",
    "        loss += (np.take(((np.dot(w5.T, D_test[j,0]) + b5) - D_test[j,1]), 0))**2\n",
    "    avg_loss[i] = loss/len(D_test)\n",
    "\n",
    "#Bar plot of average quadratic loss depending on the capacity (lambda) of the model\n",
    "width = 1.0\n",
    "plt.bar(capacity, avg_loss, width, color='b' )\n",
    "plt.ylabel('Average quadratic loss')\n",
    "plt.xlabel('Capacity')"
   ]
  },
  {
   "cell_type": "code",
   "execution_count": 11,
   "metadata": {},
   "outputs": [
    {
     "data": {
      "text/plain": [
       "Text(0,0.5,'Predicted value')"
      ]
     },
     "execution_count": 11,
     "metadata": {},
     "output_type": "execute_result"
    },
    {
     "data": {
      "image/png": "[encoded data removed]",
      "text/plain": [
       "<matplotlib.figure.Figure at 0x7f90c5946a20>"
      ]
     },
     "metadata": {},
     "output_type": "display_data"
    }
   ],
   "source": [
    "#--------------------------------------------------------------------------------------------------------------------------\n",
    "#---------------------------------------------QUESTION 6-------------------------------------------------------------------\n",
    "#--------------------------------------------------------------------------------------------------------------------------\n",
    "capacity = 0.01\n",
    "step_size = 0.0001\n",
    "n_steps = 100000\n",
    "l =[1,2,3]\n",
    "for i in range(len(l)):\n",
    "    #Polynomial preprocessing\n",
    "    poly = np.zeros((np.shape(D)[0], l[i]))\n",
    "    for j in range(np.shape(D)[0]):\n",
    "        poly[j] = np.array([D[j,0]**exp for exp in range(1,np.take(l[:i+1],0)+1)])\n",
    "    \n",
    "    #Ridge regression\n",
    "    w6 = regression_gradient(poly, D[:,1], capacity , step_size, n_steps)\n",
    "    b6= w6[0]\n",
    "    w6= w6[1:]\n",
    "    \n",
    "    #ploting f learned with ridge regression\n",
    "    y6 = np.zeros(n_bins)\n",
    "    for z in range(n_bins):\n",
    "        processed_x = np.array([x[z]**exp for exp in l[:i+1]])\n",
    "        y6[z] = np.dot(w6.T, processed_x) + b6\n",
    "    plt.plot(x, y6 , alpha=alpha)\n",
    "\n",
    "#Raw data\n",
    "plt.scatter(D[:,0], D[:,1])  \n",
    "\n",
    "plt.legend(['polynomial of degree 1',\n",
    "            'polynomial of degree 2',\n",
    "            'polynomial of degree 3',\n",
    "            'raw data'])\n",
    "\n",
    "plt.ylabel('Predicted value')\n"
   ]
  },
  {
   "cell_type": "code",
   "execution_count": null,
   "metadata": {},
   "outputs": [],
   "source": []
  }
 ],
 "metadata": {
  "kernelspec": {
   "display_name": "Python 3",
   "language": "python",
   "name": "python3"
  },
  "language_info": {
   "codemirror_mode": {
    "name": "ipython",
    "version": 3
   },
   "file_extension": ".py",
   "mimetype": "text/x-python",
   "name": "python",
   "nbconvert_exporter": "python",
   "pygments_lexer": "ipython3",
   "version": "3.6.3"
  }
 },
 "nbformat": 4,
 "nbformat_minor": 2
}
