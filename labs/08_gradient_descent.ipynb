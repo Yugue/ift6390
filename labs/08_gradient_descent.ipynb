{
 "cells": [
  {
   "cell_type": "markdown",
   "metadata": {},
   "source": [
    "# Gradient Descent\n",
    "\n",
    "We will consider a linear model with two inputs and one binary output. In the first step we will derive, by hand, the equations for gradient descent for three different loss functions. Next, we will implement these two algorithms and run them on the iris dataset.\n",
    "\n",
    "For a linear model $f(x) = x_1 * w_1 + x_2 * w_2 + b$ and a binary output $y$ ($y=0$ or $y=1$), let the cost function be $E(f(x), y)$.\n",
    "\n",
    "The three cost functions we're considering are:\n",
    "\n",
    "1) $E(f(x), y) = - I_{f(x) * y' < 0} f(x) * y'$ \n",
    "\n",
    "similar to perceptron, but since $y \\in \\{0,1\\}$ we set $y' = 2y - 1 \\therefore y' \\in \\{1,-1\\}$\n",
    "\n",
    "2) quadratic error $E(f(x), y) = \\frac{1}{2} (f(x) - y)^2$\n",
    "\n",
    "3) sigmoid cross entropy $E(f(x), y) = - y \\ln (sigm(f(x))) - (1-y) \\ln (1-sigm(f(x))$ where $sigm$ is the sigmoid function $sigm(x) = \\frac{1}{1+e^{-x}}$.\n",
    "\n",
    "## 1. Derivation\n",
    "\n",
    "Derive, by hand, the equations for gradient descent (the gradient wrt the error) for each of the parameters ($w_1$, $w_2$, and $b$) for each of the three cost functions. What do you notice about 1)?\n",
    "\n",
    "### Answer\n",
    "\n",
    "We need to calculate the derivative with respect to our parameters $\\theta$ ($\\theta \\in \\{w_1, w_2, b\\}$). We will use the chain rule to break down our derivatives into two parts:\n",
    "\n",
    "$$\\frac{\\partial E}{\\partial \\theta} = \\frac{\\partial E}{\\partial f}\\frac{\\partial f}{\\partial \\theta}$$\n",
    "\n",
    "\n",
    "We can easily calculate the second part, the partial derivative wrt our function $f$:\n",
    "\n",
    "\n",
    "$$\\frac{\\partial f}{\\partial b} = 1$$\n",
    "\n",
    "$$\\frac{\\partial f}{\\partial w_i} = x_i, i \\in {1,2}$$ \n",
    "\n",
    "\n",
    "now we need to calculate the first part, the partial derivate of the cost wrt to our function. We will do this for all three of our cost functions:\n",
    "\n",
    "#### 1) Hinge loss $E(f(x), y) = - I_{f(x) * y' < 0} \\big( f(x) * y' \\big)$\n",
    "\n",
    "There are two cases here: when the indicator function is 1 and when it is 0. When it is $0$ our output is $0$, and our derivative $\\frac{\\partial}{\\partial f}0 = 0$. When it is 1, our output is $- f * y'$. and therefore our derivative $\\frac{\\partial}{\\partial f}( -f * y') = -y'$. We can put these together and get:\n",
    "\n",
    "$$\\frac{\\partial E}{\\partial f} = I_{f * y'< 0} \\big( -y' \\big)$$\n",
    "\n",
    "Combining this with part 2:\n",
    "\n",
    "$\\frac{\\partial E}{\\partial w_i} = x_i I_{f * y' < 0} \\big( -y' \\big)$ \n",
    "and\n",
    "$\\frac{\\partial E}{\\partial b} = I_{f * y' < 0} \\big( -y' \\big)$\n",
    "\n",
    "*This is our perceptron learning rule again!*\n",
    "\n",
    "#### 2) Squared Error $E(f(x), y) = \\frac{1}{2} (f(x) - y)^2$\n",
    "\n",
    "$\\frac{\\partial E}{\\partial f} = (f - y)$ \n",
    "\n",
    "Combining this with part 2:\n",
    "\n",
    "$\\frac{\\partial E}{\\partial w_i} = x_i (f(x) - y)$ et\n",
    "$\\frac{\\partial E}{\\partial b} = f(x) - y$\n",
    "\n",
    "#### 3) Sigmoid Cross Entropy $E(f(x), y) = - y \\ln (sigm(f(x))) - (1-y) \\ln (1-sigm(f(x))$\n",
    "\n",
    "We will simplify things a bit by letting $p(f) = sigm(f)$. Then we'll break down our derivative using the chain rule \n",
    "$$\\frac{\\partial E}{\\partial f} = \\frac{\\partial E}{\\partial p} \\frac{\\partial p}{\\partial f}$$\n",
    "\n",
    "Now we're going to try to find the first part of this derivative:\n",
    "\n",
    "$$\\frac{\\partial E}{\\partial p} = \\frac{\\partial}{\\partial p} \\big( - y \\ln (p) - (1-y) \\ln (1-p) \\big)$$\n",
    "$$ = -y \\frac{1}{p} - (-1) (1 - y) \\frac{1}{1-p}$$\n",
    "$$ = \\frac{-y (1 - p) + (1 - y) p}{p(1-p)} = \\frac{p - y}{p(1-p)}$$\n",
    "\n",
    "To solve the second piece we can use the knowledge that $\\frac{\\partial sigm}{\\partial x} = sigm(x) ( 1 - sigm(x))$ So $\\frac{\\partial p}{\\partial f} = p (1-p)$. Now putting everything together:\n",
    "\n",
    "$$\\frac{\\partial E}{\\partial f} = \\frac{\\partial E}{\\partial p} \\frac{\\partial p}{\\partial f}$$\n",
    "$$\\frac{\\partial E}{\\partial f} = \\frac{p - y}{p(1-p)} * p(1-p) $$\n",
    "$$ = p - y $$\n",
    "$$ = sigm(f) - y$$\n",
    "\n",
    "Combining this with part 2:\n",
    "\n",
    "$\\frac{\\partial E}{\\partial w_i} = x_i (sigm(f(x)) - y)$ and\n",
    "$\\frac{\\partial E}{\\partial b} = sigm(f(x)) - y$\n",
    "\n",
    "\n",
    "## 2. Implementation\n",
    "\n",
    "### Data Preprocessing\n",
    "\n",
    "For our binary classification problem, we will only use two classes: iris class 1 and 2. We will preprocess the dataset to extract only examples of these two classes, and for simplicity we will change their labels to be 1 and 0. As well, since we only have two inputs per example, we will only be using two features of each example.\n",
    "\n",
    "Here is the code for the preprocessing:"
   ]
  },
  {
   "cell_type": "code",
   "execution_count": 19,
   "metadata": {},
   "outputs": [
    {
     "name": "stdout",
     "output_type": "stream",
     "text": [
      "Populating the interactive namespace from numpy and matplotlib\n"
     ]
    }
   ],
   "source": [
    "%pylab inline\n",
    "import numpy as np\n",
    "\n",
    "iris = np.loadtxt('iris.txt')\n",
    "data = iris\n",
    "\n",
    "# extract only data with class label 1 or 2\n",
    "data = data[data[:,-1]<3,:]\n",
    "\n",
    "# change label 2 to be 0\n",
    "data[data[:,-1]==2,-1] = 0\n",
    "\n",
    "# we will use only features 2 and 3\n",
    "train_cols = [2,3]\n",
    "\n",
    "target_ind = [data.shape[1] - 1]\n",
    "\n",
    "n_classes = 2\n",
    "n_train = 75\n",
    "\n",
    "# we set the random seed to make our results deterministic\n",
    "# (same results across runs)\n",
    "np.random.seed(2)\n",
    "\n",
    "inds = np.arange(data.shape[0])\n",
    "np.random.shuffle(inds)\n",
    "train_inds = inds[:n_train]\n",
    "test_inds = inds[n_train:]\n",
    "    \n",
    "# separate into train and test\n",
    "train_set = data[train_inds,:] \n",
    "train_set = train_set[:,train_cols + target_ind]\n",
    "test_set = data[test_inds,:]\n",
    "test_set = test_set[:,train_cols + target_ind]\n",
    "\n",
    "# normalize to mean 0 and standard deviation 1\n",
    "mu1 = train_set[:,0].mean()\n",
    "mu2 = train_set[:,1].mean()\n",
    "sigma1 = train_set[:,0].std()\n",
    "sigma2 = train_set[:,1].std()\n",
    "train_set[:,0] -= mu1\n",
    "train_set[:,1] -= mu2\n",
    "train_set[:,0] /= sigma1\n",
    "train_set[:,1] /= sigma2\n",
    "test_set[:,0] -= mu1\n",
    "test_set[:,1] -= mu2\n",
    "test_set[:,0] /= sigma1\n",
    "test_set[:,1] /= sigma2\n",
    "\n",
    "# split test into inputs and labels\n",
    "train_inputs = train_set[:,:-1]\n",
    "train_labels = train_set[:,-1]\n",
    "test_inputs = test_set[:,:-1]\n",
    "test_labels = test_set[:,-1]\n",
    "\n",
    "\n",
    "# the base class of our models\n",
    "class Model:\n",
    "\n",
    "    def plot_function(self, train_data, title):\n",
    "        plt.figure()\n",
    "        d1 = train_data[train_data[:, -1] == 1]\n",
    "        d2 = train_data[train_data[:, -1] == 0]\n",
    "        plt.scatter(d1[:, 0], d1[:, 1], c='b', label='class 1')\n",
    "        plt.scatter(d2[:, 0], d2[:, 1], c='g', label='class 0')\n",
    "        x = np.linspace(-10, 10, 100)\n",
    "        y = (0.5 - self.weights[0]*x - self.bias)/self.weights[1]\n",
    "        plt.plot(x, y, c='r', lw=2, label='y = (0.5 - w1*x - b1)/w2')\n",
    "        plt.xlim(np.min(train_data[:, 0]) - 0.5, np.max(train_data[:, 0]) + 0.5)\n",
    "        plt.ylim(np.min(train_data[:, 1]) - 0.5, np.max(train_data[:, 1]) + 0.5)\n",
    "        plt.grid()\n",
    "        plt.legend(loc='lower right')\n",
    "        plt.title(title)\n",
    "        plt.show()"
   ]
  },
  {
   "cell_type": "markdown",
   "metadata": {},
   "source": [
    "## LinearRegression and SigmoidCrossEntropy\n",
    "\n",
    "We introduce the classes *LinearRegression* (quadratic error) and *SigmoidCrossEntropy* (sigmoid cross-entropy). As usual, there is a *train* method to train on the train set, and a *compute_predictions* method which computes predictions for the test set\n",
    "\n",
    "Using the gradients we computed earlier, write the training loop for each of the classes in *train* and write the predictions computation in *compute_predictions* (remember to use *self.max_iter* to make sure that your algorithm doesn't run forever)"
   ]
  },
  {
   "cell_type": "code",
   "execution_count": 20,
   "metadata": {},
   "outputs": [],
   "source": [
    "class LinearRegression(Model):\n",
    "    def __init__(self, alpha, max_iter):\n",
    "        self.alpha = alpha\n",
    "        self.max_iter = max_iter\n",
    "    \n",
    "    def train(self, inputs, labels):\n",
    "        self.weights = np.random.randn(inputs.shape[1])\n",
    "        self.bias = np.zeros(1)\n",
    "\n",
    "        for i in range(self.max_iter):\n",
    "            diff = np.dot(inputs, self.weights) + self.bias - labels\n",
    "            # using [:, None] to add an extra dimension\n",
    "            grad_w = np.mean(diff[:, None] * inputs, axis=0)\n",
    "            grad_b = np.mean(diff)\n",
    "\n",
    "            self.weights -= self.alpha * grad_w\n",
    "            self.bias -= self.alpha * grad_b\n",
    "\n",
    "    def compute_predictions(self, test_inputs):\n",
    "        return np.dot(test_inputs, self.weights) + self.bias\n",
    "\n",
    "\n",
    "class SigmoidCrossEntropy(Model):\n",
    "    def __init__(self, alpha, max_iter):\n",
    "        self.alpha = alpha\n",
    "        self.max_iter = max_iter\n",
    "    \n",
    "    def train(self, inputs, labels):\n",
    "        self.weights = np.random.randn(inputs.shape[1])\n",
    "        self.bias = np.zeros(1)\n",
    "        \n",
    "        for i in range(self.max_iter):\n",
    "            f = np.dot(inputs, self.weights) + self.bias\n",
    "            sig_of_f = 1 / (1 + np.exp(-f))\n",
    "            diff = sig_of_f - labels\n",
    "            # using [:, None] to add an extra dimension\n",
    "            grad_w = np.mean(diff[:, None] * inputs, axis=0)\n",
    "            grad_b = np.mean(diff)\n",
    "\n",
    "            self.weights -= self.alpha * grad_w\n",
    "            self.bias -= self.alpha * grad_b\n",
    "\n",
    "    def compute_predictions(self, test_data):\n",
    "        return np.dot(test_data, self.weights) + self.bias"
   ]
  },
  {
   "cell_type": "markdown",
   "metadata": {},
   "source": [
    "### Train and Test\n",
    "\n",
    "Once the classes above are complete, run the code below to train and test your models"
   ]
  },
  {
   "cell_type": "code",
   "execution_count": 23,
   "metadata": {},
   "outputs": [
    {
     "data": {
      "image/png": "[encoded data removed]",
      "text/plain": [
       "<Figure size 432x288 with 1 Axes>"
      ]
     },
     "metadata": {
      "needs_background": "light"
     },
     "output_type": "display_data"
    },
    {
     "data": {
      "image/png": "[encoded data removed]",
      "text/plain": [
       "<Figure size 432x288 with 1 Axes>"
      ]
     },
     "metadata": {
      "needs_background": "light"
     },
     "output_type": "display_data"
    },
    {
     "name": "stdout",
     "output_type": "stream",
     "text": [
      "Test error is  0.0 %\n"
     ]
    }
   ],
   "source": [
    "# learning rate\n",
    "alpha = 0.01\n",
    "\n",
    "# max number of iteration\n",
    "max_iter = 500\n",
    "\n",
    "# create and train the model\n",
    "model = LinearRegression(alpha, max_iter)\n",
    "model.train(train_inputs, train_labels)\n",
    "model.plot_function(train_set, 'Train data')\n",
    "\n",
    "# predict the class for the test examples\n",
    "predictions = model.compute_predictions(test_inputs)\n",
    "# convert the predictions to either false (0) or true (1)\n",
    "classes_pred = predictions > 0.5\n",
    "\n",
    "\n",
    "model.plot_function(test_set, 'Test data')\n",
    "\n",
    "# calculate error\n",
    "err = 1.0 - np.mean(test_labels==classes_pred)\n",
    "print(\"Test error is \", 100.0 * err, \"%\")"
   ]
  },
  {
   "cell_type": "code",
   "execution_count": 24,
   "metadata": {},
   "outputs": [
    {
     "data": {
      "image/png": "[encoded data removed]",
      "text/plain": [
       "<Figure size 432x288 with 1 Axes>"
      ]
     },
     "metadata": {
      "needs_background": "light"
     },
     "output_type": "display_data"
    },
    {
     "data": {
      "image/png": "[encoded data removed]",
      "text/plain": [
       "<Figure size 432x288 with 1 Axes>"
      ]
     },
     "metadata": {
      "needs_background": "light"
     },
     "output_type": "display_data"
    },
    {
     "name": "stdout",
     "output_type": "stream",
     "text": [
      "Test error is  0.0 %\n"
     ]
    }
   ],
   "source": [
    "# create and train the model\n",
    "model = SigmoidCrossEntropy(alpha, max_iter)\n",
    "model.train(train_inputs, train_labels)\n",
    "model.plot_function(train_set, 'Train data')\n",
    "\n",
    "# predict the class for the test examples\n",
    "predictions = model.compute_predictions(test_inputs)\n",
    "# convert the predictions to either false (0) or true (1)\n",
    "classes_pred = predictions > 0.5\n",
    "\n",
    "# calculate error\n",
    "err = 1.0 - np.mean(test_labels==classes_pred)\n",
    "\n",
    "model.plot_function(test_set, 'Test data')\n",
    "print(\"Test error is \", 100.0 * err, \"%\")"
   ]
  },
  {
   "cell_type": "code",
   "execution_count": null,
   "metadata": {},
   "outputs": [],
   "source": []
  }
 ],
 "metadata": {
  "kernelspec": {
   "display_name": "Python 3",
   "language": "python",
   "name": "python3"
  },
  "language_info": {
   "codemirror_mode": {
    "name": "ipython",
    "version": 3
   },
   "file_extension": ".py",
   "mimetype": "text/x-python",
   "name": "python",
   "nbconvert_exporter": "python",
   "pygments_lexer": "ipython3",
   "version": "3.7.0"
  }
 },
 "nbformat": 4,
 "nbformat_minor": 1
}
