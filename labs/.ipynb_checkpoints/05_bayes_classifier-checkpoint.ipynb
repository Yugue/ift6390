{
 "cells": [
  {
   "cell_type": "markdown",
   "metadata": {},
   "source": [
    "# Bayes Classifier. Maximum Likelihood for a multivariate Gaussian density."
   ]
  },
  {
   "cell_type": "markdown",
   "metadata": {},
   "source": [
    "## Preface"
   ]
  },
  {
   "cell_type": "markdown",
   "metadata": {},
   "source": [
    "Begin, if necessary, by recalling the course notes on the [Bayes classifier](https://studium.umontreal.ca/pluginfile.php/4027948/mod_resource/content/4/7_bayes_classifier-en.pdf) and the principle of [maximum likelihood](https://studium.umontreal.ca/pluginfile.php/4003963/mod_resource/content/4/5_gaussian_distribution_en.pdf)."
   ]
  },
  {
   "cell_type": "markdown",
   "metadata": {},
   "source": [
    "## High level description"
   ]
  },
  {
   "cell_type": "markdown",
   "metadata": {},
   "source": [
    "Today we are going to build a **multi-class Bayes classifier**. This means that instead of modeling $ p (\\mbox{class} | \\mbox{example}) $ (or $ p (y | x) $), we will instead use the Bayes equation\n",
    "\n",
    "$$ p (\\mbox{class} | \\mbox{example}) = \\frac{p (\\mbox{example} | \\mbox{class}) p (\\mbox {class})} {\\sum_{c'= 1}^{m} p_\\mbox{c'}(x) P_\\mbox{c'}} $$\n",
    "\n",
    "and model the different pieces. In fact, we just need to model the numerator since the denominator is a normalization constant. In addition, $ P_\\mbox{c '} = n_c / n $\n",
    "\n",
    "The term $ p (\\mbox{class}) $ represents the prior probability of a class, that is, our a priori belief - before we have seen a particular example - about the probability that an unknown example belongs to this class). We will represent this belief a priori for a class by the frequency of the latter in the training data: $ \\frac{n_c}{n} $ where $ n_c $ = number of examples of the class $ c $, and $ n $ = number of training examples.\n",
    "\n",
    "We will use **multivariate Gaussian densities** to model the different $ p (\\mbox{example} | \\mbox{class}) $. This means that for each class, we will assume that the \"true\" distribution $ p (\\mbox{example} | \\mbox{class}) $ has the form of a multivariate Gaussian for which we will try to learn the parameters $ \\mu $ and $ \\Sigma $. In practice, we will limit ourselves today to a particular case of this distribution: the one where we assume that the covariance matrix $ \\Sigma $ of each Gaussian is diagonal and that each element of this diagonal is the same, i.e. sigma_sq (<=> \"sigma square\" <=> $ \\sigma^2 $ <=> the variance). Thus we have a single parameter to control the expression of the covariance. It's easier (for us and for the computer) to calculate, but it also means that our model is less powerful.\n",
    "\n",
    "So we have a very simple parametric model. The parameters are the average $ \\mu $ (a vector of the same dimension as the dimension of the system input) and the variance $ \\sigma^2 $ (a single scalar in our simple model, which will multiply the identity matrix). Learning in this model will be done today by applying the **maximum likelihood principle**. For each class, we will find the values of the parameters that maximize the log-likelihood of the training data from this class:\n",
    "\n",
    "$$ \\log \\prod_i^n p(X = x_i) $$\n",
    "\n",
    "For an insotropic Gaussian of dimension $d$, the maximum likelihood estimators of $\\mu$ and $\\sigma^2$ are given by: \n",
    "\n",
    "$$\\mu_{ML} = \\frac{1}{n} \\sum_{i=1}^{n} x_i$$\n",
    "\n",
    "$$\\sigma_{ML}^2 = \\frac{1}{nd} \\sum_{i=1}^{n} (x_i-\\mu_{MV})^T(x_i-\\mu_{MV})$$\n",
    "\n",
    "Having found the parameters that maximize the likelihood for each class, we can calculate each $ p (\\mbox{example} | \\mbox{class}) $. It is now sufficient to apply the Bayes rule in order to classify a new example. More precisely, we want to choose, for an example, the class that maximizes $ p(\\mbox{example} | \\mbox{class}) p(\\mbox{class}) $ or, equivalently, $ \\log (p (\\mbox{example } | \\mbox{class} ) p(\\mbox{class})) $."
   ]
  },
  {
   "cell_type": "markdown",
   "metadata": {},
   "source": [
    "## Code to be completed"
   ]
  },
  {
   "cell_type": "markdown",
   "metadata": {},
   "source": [
    "Load the file `utilities.py` into the folder where your notebook files are located. It contains the useful functions you saw in the last class. You can thus use them without cluttering your notebook."
   ]
  },
  {
   "cell_type": "markdown",
   "metadata": {},
   "source": [
    "For the `gauss_ml` class:\n",
    " \n",
    "  - calculate sigma_sq ($ \\sigma^2 $), the variance in `gauss_ml.train`\n",
    "  - calculate the value of the Gaussian density function in `gauss_ml.compute_predictions`"
   ]
  },
  {
   "cell_type": "code",
   "execution_count": 1,
   "metadata": {},
   "outputs": [],
   "source": [
    "#%pylab inline\n",
    "import numpy as np\n",
    "import utilities"
   ]
  },
  {
   "cell_type": "code",
   "execution_count": 12,
   "metadata": {},
   "outputs": [],
   "source": [
    "class gauss_ml:\n",
    "    def __init__(self,n_dims,cov_type=\"isotropic\"):\n",
    "        self.n_dims = n_dims\n",
    "        self.mu = np.zeros((1,n_dims))\n",
    "        self.cov_type = cov_type\n",
    "        \n",
    "        if cov_type==\"isotropic\":\n",
    "            self.sigma_sq = 1.0\n",
    "        elif cov_type==\"diagonal\":\n",
    "            self.sigma_sq = np.ones(n_dims)\n",
    "        if cov_type==\"full\":\n",
    "            self.cov = np.ones((n_dims,n_dims))\n",
    "\t# For a training set, the function should compute the ML estimator of the mean and the covariance matrix\n",
    "    def train(self, train_data):\n",
    "        self.mu = np.mean(train_data,axis=0)\n",
    "        if self.cov_type == \"isotropic\":\n",
    "            self.sigma_sq = np.sum((train_data - self.mu)**2.0) / (self.n_dims * train_data.shape[0])\n",
    "        elif self.cov_type == \"diagonale\":\n",
    "            self.sigma_sq =  numpy.sum((train_data - self.mu) ** 2.0, axis = 0) / train_data.shape[0] \n",
    "        if self.cov_type == \"full\":\n",
    "            self.cov = np.cov(np.transpose(train_data))\n",
    "\n",
    "\t# Returns a vector of size nb. of test ex. containing the log\n",
    "\t# probabilities of each test example under the model.\t\n",
    "    def compute_predictions(self, test_data):\n",
    "\n",
    "        if self.cov_type == \"isotropic\":\n",
    "            # the following line calculates log(normalization constant)\n",
    "            c = -self.n_dims * np.log(2*np.pi)/2 - self.n_dims*np.log(np.sqrt(self.sigma_sq))            \n",
    "            # it is necessary to calculate the value of the log-probability of each test example \n",
    "            #under the model determined by mu and sigma_sq\n",
    "            #the vector of probabilities is / will be log_prob\n",
    "            log_prob = c - np.sum((test_data -  self.mu)**2.0,axis=1) / (2.0 * self.sigma_sq)\n",
    "        elif self.cov_type == \"diagonal\":\n",
    "            # we take the product of the vector representing the diagonal (np.prod(self.sigma)\n",
    "            c = -self.n_dims * np.log(2*np.pi)/2.0 - np.log(np.prod(self.sigma_sq))/2.0\n",
    "            # we do a summation along axis 1 after having divided by sigma because the latte is also \n",
    "            # of dimension d\n",
    "            log_prob = c - np.sum((test_data -  self.mu)**2.0/ (2.0 * self.sigma_sq),axis=1)\n",
    "        elif self.cov_type == \"full\":\n",
    "            c = -self.n_dims * np.log(2.0*np.pi)/2.0\n",
    "            det = np.linalg.det(self.cov)\n",
    "            c += np.log(det)/2.0\n",
    "            \n",
    "            dmu = test_data-self.mu\n",
    "            inv = np.linalg.inv(self.cov)\n",
    "            \n",
    "            dxs = np.dot(dmu,inv)\n",
    "            dxsx = np.sum(dxs*dmu,axis=1)\n",
    "            log_prob = c - dxsx\n",
    "        return log_prob"
   ]
  },
  {
   "cell_type": "markdown",
   "metadata": {},
   "source": [
    "For class `classif_bayes`:\n",
    "\n",
    "  - complete `classif_bayes.compute_predictions`"
   ]
  },
  {
   "cell_type": "code",
   "execution_count": 13,
   "metadata": {},
   "outputs": [],
   "source": [
    "class classif_bayes:\n",
    "\n",
    "    def __init__(self,models_ml, priors):\n",
    "        self.models_ml = models_ml\n",
    "        self.priors = priors\n",
    "        if len(self.models_ml) != len(self.priors):\n",
    "            print('The number of ML models must be equal to the number of priors!')\n",
    "        self.n_classes = len(self.models_ml)\n",
    "\t\t\t\n",
    "    # Returns a matrix of size nb. of test ex. times number of classes containing the log\n",
    "    # probabilities of each test example under each model, trained by ML.\t\n",
    "    def compute_predictions(self, test_data, eval_by_group=False):\n",
    "\n",
    "        log_pred = np.empty((test_data.shape[0],self.n_classes))\n",
    "\n",
    "        for i in range(self.n_classes):\n",
    "            # Here we will have to use modeles_mv [i] and priors to fill in\n",
    "            # each column of log_pred (it's more efficient to do a entire column at a time)\n",
    "\n",
    "            log_pred[:,i] = self.models_ml[i].compute_predictions(test_data) +  np.log(self.priors[i])\n",
    "\n",
    "        return log_pred"
   ]
  },
  {
   "cell_type": "markdown",
   "metadata": {},
   "source": [
    "Complete the code by calculating the maximum per class and displaying the decision area graph using the functions in `utilities.py` "
   ]
  },
  {
   "cell_type": "code",
   "execution_count": 14,
   "metadata": {},
   "outputs": [],
   "source": [
    "# Here we provide an example where we do not divide the data into train and test set.\n",
    "iris=np.loadtxt('iris.txt')\n",
    "np.random.seed(123)\n",
    "\n",
    "indices1 = np.arange(0,50)\n",
    "indices2 = np.arange(50,100)\n",
    "indices3 = np.arange(100,150)\n",
    "\n",
    "np.random.shuffle(indices1)\n",
    "np.random.shuffle(indices2)\n",
    "np.random.shuffle(indices3)\n",
    "\n",
    "iris_train1 = iris[indices1[:35]]\n",
    "iris_test1 = iris[indices1[35:]]\n",
    "iris_train2 = iris[indices2[:35]]\n",
    "iris_test2 = iris[indices2[35:]]\n",
    "iris_train3 = iris[indices3[:35]]\n",
    "iris_test3 = iris[indices3[35:]]\n",
    "\n",
    "iris_train = np.concatenate([iris_train1, iris_train2, iris_train3])\n",
    "iris_test = np.concatenate([iris_test1, iris_test2, iris_test3])\n",
    "\n",
    "\n"
   ]
  },
  {
   "cell_type": "code",
   "execution_count": 15,
   "metadata": {},
   "outputs": [
    {
     "name": "stdout",
     "output_type": "stream",
     "text": [
      "Error rate (training) 4.76%\n",
      "Error rate (test) 8.89%\n"
     ]
    }
   ],
   "source": [
    "# First test: with all the columns\n",
    "train_cols = [0,1,2,3]\n",
    "\n",
    "# We create a model per class (using maximum likelihood)\n",
    "model_class1=gauss_ml(len(train_cols))\n",
    "model_class2=gauss_ml(len(train_cols))\n",
    "model_class3=gauss_ml(len(train_cols))\n",
    "model_class1.train(iris_train1[:,train_cols])\n",
    "model_class2.train(iris_train2[:,train_cols])\n",
    "model_class3.train(iris_train3[:,train_cols])\n",
    "\n",
    "# We create a list of all our models\n",
    "# We do the same thing for the priors\n",
    "# Here the priors are calculated exactly because we know the number of representatives per class. \n",
    "# Once you have created a train / test set, they need to be calculated exactly\n",
    "model_ml=[model_class1,model_class2,model_class3]\n",
    "priors=[0.3333,0.3333,0.3333]\n",
    "\n",
    "# We create our classifier with our list of Gaussian models and our priors\n",
    "classifier=classif_bayes(model_ml,priors)\n",
    "\n",
    "# we can now calculate the log-probabilities according to our models\n",
    "log_prob_train=classifier.compute_predictions(iris_train[:, train_cols])\n",
    "log_prob_test=classifier.compute_predictions(iris_test[:, train_cols])\n",
    "\n",
    "# it now remains to calculate the maximum per class for the classification\n",
    "classesPred_train = log_prob_train.argmax(1)+1\n",
    "classesPred_test = log_prob_test.argmax(1)+1\n",
    "\n",
    "print(\"Error rate (training) %.2f%%\" % ((1-(classesPred_train==iris_train[:,-1]).mean())*100.0))\n",
    "print(\"Error rate (test) %.2f%%\" % ((1-(classesPred_test==iris_test[:,-1]).mean())*100.0))"
   ]
  },
  {
   "cell_type": "code",
   "execution_count": 8,
   "metadata": {},
   "outputs": [
    {
     "name": "stdout",
     "output_type": "stream",
     "text": [
      "Error rate (training) 17.14%\n",
      "Error rate (test) 20.00%\n"
     ]
    },
    {
     "name": "stderr",
     "output_type": "stream",
     "text": [
      "/anaconda3/lib/python3.6/site-packages/matplotlib/legend.py:938: UserWarning: Legend does not support [<matplotlib.lines.Line2D object at 0x1194bac18>] instances.\n",
      "A proxy artist may be used instead.\n",
      "See: http://matplotlib.org/users/legend_guide.html#creating-artists-specifically-for-adding-to-the-legend-aka-proxy-artists\n",
      "  \"aka-proxy-artists\".format(orig_handle)\n",
      "/anaconda3/lib/python3.6/site-packages/matplotlib/legend.py:938: UserWarning: Legend does not support [<matplotlib.lines.Line2D object at 0x1194baf60>] instances.\n",
      "A proxy artist may be used instead.\n",
      "See: http://matplotlib.org/users/legend_guide.html#creating-artists-specifically-for-adding-to-the-legend-aka-proxy-artists\n",
      "  \"aka-proxy-artists\".format(orig_handle)\n",
      "/anaconda3/lib/python3.6/site-packages/matplotlib/legend.py:938: UserWarning: Legend does not support [<matplotlib.lines.Line2D object at 0x1194c1438>] instances.\n",
      "A proxy artist may be used instead.\n",
      "See: http://matplotlib.org/users/legend_guide.html#creating-artists-specifically-for-adding-to-the-legend-aka-proxy-artists\n",
      "  \"aka-proxy-artists\".format(orig_handle)\n"
     ]
    },
    {
     "data": {
      "image/png": "[encoded data removed]",
      "text/plain": [
       "<Figure size 432x288 with 1 Axes>"
      ]
     },
     "metadata": {},
     "output_type": "display_data"
    }
   ],
   "source": [
    "# Second test: only the columns 0 et 1\n",
    "train_cols = [0,1]\n",
    "\n",
    "# We create a model per class (using maximum likelihood)\n",
    "model_class1=gauss_ml(len(train_cols))\n",
    "model_class2=gauss_ml(len(train_cols))\n",
    "model_class3=gauss_ml(len(train_cols))\n",
    "model_class1.train(iris_train1[:,train_cols])\n",
    "model_class2.train(iris_train2[:,train_cols])\n",
    "model_class3.train(iris_train3[:,train_cols])\n",
    "\n",
    "# We create a list of all our models\n",
    "# We do the same thing for the priors\n",
    "# Here the priors are calculated exactly because we know the number of representatives per class. \n",
    "# Once you have created a train / test set, they need to be calculated exactly\n",
    "model_ml=[model_class1,model_class2,model_class3]\n",
    "priors=[0.3333,0.3333,0.3333]\n",
    "\n",
    "# We create our classifier with our list of Gaussian models and our priors\n",
    "classifier=classif_bayes(model_ml,priors)\n",
    "\n",
    "# we can now calculate the log-probabilities according to our models\n",
    "log_prob_train=classifier.compute_predictions(iris_train[:, train_cols])\n",
    "log_prob_test=classifier.compute_predictions(iris_test[:, train_cols])\n",
    "\n",
    "# it now remains to calculate the maximum per class for the classification\n",
    "classesPred_train = log_prob_train.argmax(1)+1\n",
    "classesPred_test = log_prob_test.argmax(1)+1\n",
    "\n",
    "print(\"Error rate (training) %.2f%%\" % ((1-(classesPred_train==iris_train[:,-1]).mean())*100.0))\n",
    "print(\"Error rate (test) %.2f%%\" % ((1-(classesPred_test==iris_test[:,-1]).mean())*100.0))\n",
    "\n",
    "utilities.gridplot(classifier,\n",
    "                     iris_train[:, train_cols + [-1]],\n",
    "                     iris_test[:, train_cols + [-1]],\n",
    "                     n_points=50)"
   ]
  },
  {
   "cell_type": "markdown",
   "metadata": {},
   "source": [
    "## Once you're done"
   ]
  },
  {
   "cell_type": "markdown",
   "metadata": {},
   "source": [
    "- Change your code so that `gauss_ml` calculates a diagonal covariance matrix (where we estimate the variance for each component / trait of the input) or even a full covariance matrix.\n",
    "- The `numpy.cov` and` numpy.var` commands will probably be useful."
   ]
  },
  {
   "cell_type": "code",
   "execution_count": 16,
   "metadata": {},
   "outputs": [
    {
     "name": "stdout",
     "output_type": "stream",
     "text": [
      "isotropic\n",
      "Error rate (training) 4.76%\n",
      "Error rate (test) 8.89%\n",
      "diagonal\n",
      "Error rate (training) 5.71%\n",
      "Error rate (test) 8.89%\n",
      "full\n",
      "Error rate (training) 1.90%\n",
      "Error rate (test) 6.67%\n"
     ]
    }
   ],
   "source": [
    "# Premier test: avec toutes les colonnes\n",
    "train_cols = [0,1,2,3]\n",
    "\n",
    "for cov_type in ['isotropic','diagonal','full']:\n",
    "    # We create a model per class (using maximum likelihood)\n",
    "    model_class1=gauss_ml(len(train_cols),cov_type=cov_type)\n",
    "    model_class2=gauss_ml(len(train_cols),cov_type=cov_type)\n",
    "    model_class3=gauss_ml(len(train_cols),cov_type=cov_type)\n",
    "    model_class1.train(iris_train1[:,train_cols])\n",
    "    model_class2.train(iris_train2[:,train_cols])\n",
    "    model_class3.train(iris_train3[:,train_cols])\n",
    "    \n",
    "    # We create a list of all our models\n",
    "    # We do the same thing for the priors\n",
    "    # Here the priors are calculated exactly because we know the number of representatives per class. \n",
    "    # Once you have created a train / test set, they need to be calculated exactly\n",
    "    model_ml=[model_class1,model_class2,model_class3]\n",
    "    priors=[0.3333,0.3333,0.3333]\n",
    "\n",
    "    # We create our classifier with our list of Gaussian models and our priors\n",
    "    classifier=classif_bayes(model_ml,priors)\n",
    "    \n",
    "    # we can now calculate the log-probabilities according to our models\n",
    "    log_prob_train=classifier.compute_predictions(iris_train[:, train_cols])\n",
    "    log_prob_test=classifier.compute_predictions(iris_test[:, train_cols])\n",
    "    \n",
    "    # it now remains to calculate the maximum per class for the classification\n",
    "    classesPred_train = log_prob_train.argmax(1)+1\n",
    "    classesPred_test = log_prob_test.argmax(1)+1\n",
    "    \n",
    "    print(cov_type)\n",
    "    print(\"Error rate (training) %.2f%%\" % ((1-(classesPred_train==iris_train[:,-1]).mean())*100.0))\n",
    "    print(\"Error rate (test) %.2f%%\" % ((1-(classesPred_test==iris_test[:,-1]).mean())*100.0))\n"
   ]
  },
  {
   "cell_type": "code",
   "execution_count": 19,
   "metadata": {},
   "outputs": [
    {
     "name": "stdout",
     "output_type": "stream",
     "text": [
      "isotropic\n",
      "Error rate (training) 3.81%\n",
      "Error rate (test) 4.44%\n"
     ]
    },
    {
     "name": "stderr",
     "output_type": "stream",
     "text": [
      "/anaconda3/lib/python3.6/site-packages/matplotlib/legend.py:938: UserWarning: Legend does not support [<matplotlib.lines.Line2D object at 0x11958c5c0>] instances.\n",
      "A proxy artist may be used instead.\n",
      "See: http://matplotlib.org/users/legend_guide.html#creating-artists-specifically-for-adding-to-the-legend-aka-proxy-artists\n",
      "  \"aka-proxy-artists\".format(orig_handle)\n",
      "/anaconda3/lib/python3.6/site-packages/matplotlib/legend.py:938: UserWarning: Legend does not support [<matplotlib.lines.Line2D object at 0x11958c518>] instances.\n",
      "A proxy artist may be used instead.\n",
      "See: http://matplotlib.org/users/legend_guide.html#creating-artists-specifically-for-adding-to-the-legend-aka-proxy-artists\n",
      "  \"aka-proxy-artists\".format(orig_handle)\n",
      "/anaconda3/lib/python3.6/site-packages/matplotlib/legend.py:938: UserWarning: Legend does not support [<matplotlib.lines.Line2D object at 0x11958c978>] instances.\n",
      "A proxy artist may be used instead.\n",
      "See: http://matplotlib.org/users/legend_guide.html#creating-artists-specifically-for-adding-to-the-legend-aka-proxy-artists\n",
      "  \"aka-proxy-artists\".format(orig_handle)\n"
     ]
    },
    {
     "data": {
      "image/png": "[encoded data removed]",
      "text/plain": [
       "<Figure size 432x288 with 1 Axes>"
      ]
     },
     "metadata": {},
     "output_type": "display_data"
    },
    {
     "name": "stdout",
     "output_type": "stream",
     "text": [
      "diagonal\n",
      "Error rate (training) 2.86%\n",
      "Error rate (test) 2.22%\n"
     ]
    },
    {
     "name": "stderr",
     "output_type": "stream",
     "text": [
      "/anaconda3/lib/python3.6/site-packages/matplotlib/legend.py:938: UserWarning: Legend does not support [<matplotlib.lines.Line2D object at 0x119e844e0>] instances.\n",
      "A proxy artist may be used instead.\n",
      "See: http://matplotlib.org/users/legend_guide.html#creating-artists-specifically-for-adding-to-the-legend-aka-proxy-artists\n",
      "  \"aka-proxy-artists\".format(orig_handle)\n",
      "/anaconda3/lib/python3.6/site-packages/matplotlib/legend.py:938: UserWarning: Legend does not support [<matplotlib.lines.Line2D object at 0x119e847f0>] instances.\n",
      "A proxy artist may be used instead.\n",
      "See: http://matplotlib.org/users/legend_guide.html#creating-artists-specifically-for-adding-to-the-legend-aka-proxy-artists\n",
      "  \"aka-proxy-artists\".format(orig_handle)\n",
      "/anaconda3/lib/python3.6/site-packages/matplotlib/legend.py:938: UserWarning: Legend does not support [<matplotlib.lines.Line2D object at 0x119e84c88>] instances.\n",
      "A proxy artist may be used instead.\n",
      "See: http://matplotlib.org/users/legend_guide.html#creating-artists-specifically-for-adding-to-the-legend-aka-proxy-artists\n",
      "  \"aka-proxy-artists\".format(orig_handle)\n"
     ]
    },
    {
     "data": {
      "image/png": "[encoded data removed]",
      "text/plain": [
       "<Figure size 432x288 with 1 Axes>"
      ]
     },
     "metadata": {},
     "output_type": "display_data"
    },
    {
     "name": "stdout",
     "output_type": "stream",
     "text": [
      "full\n",
      "Error rate (training) 1.90%\n",
      "Error rate (test) 2.22%\n"
     ]
    },
    {
     "name": "stderr",
     "output_type": "stream",
     "text": [
      "/anaconda3/lib/python3.6/site-packages/matplotlib/legend.py:938: UserWarning: Legend does not support [<matplotlib.lines.Line2D object at 0x119f550f0>] instances.\n",
      "A proxy artist may be used instead.\n",
      "See: http://matplotlib.org/users/legend_guide.html#creating-artists-specifically-for-adding-to-the-legend-aka-proxy-artists\n",
      "  \"aka-proxy-artists\".format(orig_handle)\n",
      "/anaconda3/lib/python3.6/site-packages/matplotlib/legend.py:938: UserWarning: Legend does not support [<matplotlib.lines.Line2D object at 0x119f553c8>] instances.\n",
      "A proxy artist may be used instead.\n",
      "See: http://matplotlib.org/users/legend_guide.html#creating-artists-specifically-for-adding-to-the-legend-aka-proxy-artists\n",
      "  \"aka-proxy-artists\".format(orig_handle)\n",
      "/anaconda3/lib/python3.6/site-packages/matplotlib/legend.py:938: UserWarning: Legend does not support [<matplotlib.lines.Line2D object at 0x119f55860>] instances.\n",
      "A proxy artist may be used instead.\n",
      "See: http://matplotlib.org/users/legend_guide.html#creating-artists-specifically-for-adding-to-the-legend-aka-proxy-artists\n",
      "  \"aka-proxy-artists\".format(orig_handle)\n"
     ]
    },
    {
     "data": {
      "image/png": "[encoded data removed]",
      "text/plain": [
       "<Figure size 432x288 with 1 Axes>"
      ]
     },
     "metadata": {},
     "output_type": "display_data"
    }
   ],
   "source": [
    "# Second test: only columns\n",
    "train_cols = [2,3]\n",
    "\n",
    "for cov_type in ['isotropic','diagonal','full']:\n",
    "    # We create a model per class (using maximum likelihood)\n",
    "    model_class1=gauss_ml(len(train_cols),cov_type=cov_type)\n",
    "    model_class2=gauss_ml(len(train_cols),cov_type=cov_type)\n",
    "    model_class3=gauss_ml(len(train_cols),cov_type=cov_type)\n",
    "    model_class1.train(iris_train1[:,train_cols])\n",
    "    model_class2.train(iris_train2[:,train_cols])\n",
    "    model_class3.train(iris_train3[:,train_cols])\n",
    "    \n",
    "    # We create a list of all our models\n",
    "    # We do the same thing for the priors\n",
    "    # Here the priors are calculated exactly because we know the number of representatives per class. \n",
    "    # Once you have created a train / test set, they need to be calculated exactly\n",
    "    model_ml=[model_class1,model_class2,model_class3]\n",
    "    priors=[0.3333,0.3333,0.3333]\n",
    "\n",
    "    # We create our classifier with our list of Gaussian models and our priors\n",
    "    classifier=classif_bayes(model_ml,priors)\n",
    "    \n",
    "    # we can now calculate the log-probabilities according to our models\n",
    "    log_prob_train=classifier.compute_predictions(iris_train[:, train_cols])\n",
    "    log_prob_test=classifier.compute_predictions(iris_test[:, train_cols])\n",
    "    \n",
    "    # it now remains to calculate the maximum per class for the classification\n",
    "    classesPred_train = log_prob_train.argmax(1)+1\n",
    "    classesPred_test = log_prob_test.argmax(1)+1\n",
    "    \n",
    "    print(cov_type)\n",
    "    print(\"Error rate (training) %.2f%%\" % ((1-(classesPred_train==iris_train[:,-1]).mean())*100.0))\n",
    "    print(\"Error rate (test) %.2f%%\" % ((1-(classesPred_test==iris_test[:,-1]).mean())*100.0))\n",
    "\n",
    "    utilities.gridplot(classifier,\n",
    "                         iris_train[:, train_cols + [-1]],\n",
    "                         iris_test[:, train_cols + [-1]],\n",
    "                         n_points=50)"
   ]
  },
  {
   "cell_type": "code",
   "execution_count": null,
   "metadata": {},
   "outputs": [],
   "source": []
  }
 ],
 "metadata": {
  "kernelspec": {
   "display_name": "Python 3",
   "language": "python",
   "name": "python3"
  },
  "language_info": {
   "codemirror_mode": {
    "name": "ipython",
    "version": 3
   },
   "file_extension": ".py",
   "mimetype": "text/x-python",
   "name": "python",
   "nbconvert_exporter": "python",
   "pygments_lexer": "ipython3",
   "version": "3.6.3"
  }
 },
 "nbformat": 4,
 "nbformat_minor": 2
}
